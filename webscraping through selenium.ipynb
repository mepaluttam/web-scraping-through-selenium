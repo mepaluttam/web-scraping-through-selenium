{
 "cells": [
  {
   "cell_type": "code",
   "execution_count": 1,
   "id": "44f057c6",
   "metadata": {},
   "outputs": [],
   "source": [
    "from selenium import webdriver\n",
    "from selenium.webdriver.chrome.service import Service\n",
    "from selenium.webdriver.common.by import By\n",
    "\n",
    "import time\n",
    "\n",
    "\n",
    "s = Service(\"C:/Users/uttam/OneDrive/Desktop/chromedriver.exe\")\n",
    "driver = webdriver.Chrome(service = s)\n",
    "\n",
    "driver.get('https://www.smartprix.com/mobiles')\n",
    "time.sleep(1)\n",
    "\n",
    "driver.find_element(by=By.XPATH , value ='//*[@id=\"app\"]/main/aside/div/div[5]/div[2]/label[1]/input').click()\n",
    "time.sleep(1)\n",
    "driver.find_element(by=By.XPATH, value = '//*[@id=\"app\"]/main/aside/div/div[5]/div[2]/label[2]/input').click()\n",
    "time.sleep(2)\n",
    "driver.find_element(by=By.XPATH, value = '//*[@id=\"app\"]/main/div[1]/div[2]/div[3]').click()\n",
    "time.sleep(2)\n",
    "\n",
    "old_height = driver.execute_script('return document.body.scrollHeight')\n",
    "while True:\n",
    "    driver.find_element(by=By.XPATH, value = '//*[@id=\"app\"]/main/div[1]/div[2]/div[3]').click()\n",
    "    time.sleep(1)\n",
    "    \n",
    "    new_height = driver.execute_script('return document.body.scrollHeight')\n",
    "    #print(old_height)\n",
    "    #print(new_height)\n",
    "    \n",
    "    if new_height == old_height:\n",
    "        break\n",
    "    \n",
    "    old_height = new_height\n",
    "    \n",
    "html = driver.page_source\n",
    "\n",
    "with open ('smartprix.html','w',encoding = 'utf-8') as f:\n",
    "    f.write(html)\n",
    "    "
   ]
  },
  {
   "cell_type": "code",
   "execution_count": null,
   "id": "ca3d5fc6",
   "metadata": {},
   "outputs": [],
   "source": []
  }
 ],
 "metadata": {
  "kernelspec": {
   "display_name": "Python 3 (ipykernel)",
   "language": "python",
   "name": "python3"
  },
  "language_info": {
   "codemirror_mode": {
    "name": "ipython",
    "version": 3
   },
   "file_extension": ".py",
   "mimetype": "text/x-python",
   "name": "python",
   "nbconvert_exporter": "python",
   "pygments_lexer": "ipython3",
   "version": "3.11.3"
  }
 },
 "nbformat": 4,
 "nbformat_minor": 5
}
